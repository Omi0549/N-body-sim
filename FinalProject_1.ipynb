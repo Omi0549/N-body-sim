{
 "cells": [
  {
   "cell_type": "code",
   "execution_count": 1,
   "id": "1ea6654b-37ab-4f66-a0a0-e547845b03f1",
   "metadata": {
    "tags": []
   },
   "outputs": [
    {
     "name": "stdout",
     "output_type": "stream",
     "text": [
      "Collecting pygame\n",
      "  Obtaining dependency information for pygame from https://files.pythonhosted.org/packages/82/61/93ae7afbd931a70510cfdf0a7bb0007540020b8d80bc1d8762ebdc46479b/pygame-2.5.2-cp311-cp311-win_amd64.whl.metadata\n",
      "  Downloading pygame-2.5.2-cp311-cp311-win_amd64.whl.metadata (13 kB)\n",
      "Downloading pygame-2.5.2-cp311-cp311-win_amd64.whl (10.8 MB)\n",
      "   ---------------------------------------- 0.0/10.8 MB ? eta -:--:--\n",
      "    --------------------------------------- 0.2/10.8 MB 5.0 MB/s eta 0:00:03\n",
      "   -- ------------------------------------- 0.7/10.8 MB 8.8 MB/s eta 0:00:02\n",
      "   ---- ----------------------------------- 1.2/10.8 MB 9.9 MB/s eta 0:00:01\n",
      "   ----- ---------------------------------- 1.5/10.8 MB 10.4 MB/s eta 0:00:01\n",
      "   --------- ------------------------------ 2.5/10.8 MB 11.3 MB/s eta 0:00:01\n",
      "   ----------- ---------------------------- 3.2/10.8 MB 11.9 MB/s eta 0:00:01\n",
      "   ------------- -------------------------- 3.7/10.8 MB 12.6 MB/s eta 0:00:01\n",
      "   --------------- ------------------------ 4.2/10.8 MB 12.7 MB/s eta 0:00:01\n",
      "   --------------- ------------------------ 4.3/10.8 MB 10.9 MB/s eta 0:00:01\n",
      "   ------------------ --------------------- 4.9/10.8 MB 11.6 MB/s eta 0:00:01\n",
      "   -------------------- ------------------- 5.6/10.8 MB 11.6 MB/s eta 0:00:01\n",
      "   ----------------------- ---------------- 6.2/10.8 MB 11.6 MB/s eta 0:00:01\n",
      "   ------------------------- -------------- 6.8/10.8 MB 12.0 MB/s eta 0:00:01\n",
      "   --------------------------- ------------ 7.5/10.8 MB 12.2 MB/s eta 0:00:01\n",
      "   ----------------------------- ---------- 8.1/10.8 MB 12.6 MB/s eta 0:00:01\n",
      "   -------------------------------- ------- 8.7/10.8 MB 12.6 MB/s eta 0:00:01\n",
      "   ---------------------------------- ----- 9.3/10.8 MB 12.7 MB/s eta 0:00:01\n",
      "   ------------------------------------ --- 9.7/10.8 MB 12.7 MB/s eta 0:00:01\n",
      "   -------------------------------------- - 10.4/10.8 MB 13.1 MB/s eta 0:00:01\n",
      "   ---------------------------------------  10.7/10.8 MB 12.8 MB/s eta 0:00:01\n",
      "   ---------------------------------------- 10.8/10.8 MB 12.3 MB/s eta 0:00:00\n",
      "Installing collected packages: pygame\n",
      "Successfully installed pygame-2.5.2\n",
      "Note: you may need to restart the kernel to use updated packages.\n"
     ]
    }
   ],
   "source": [
    "pip install pygame\n"
   ]
  },
  {
   "cell_type": "code",
   "execution_count": null,
   "id": "ce1a0c69-d5ef-49c3-b5ac-418c015ac7ce",
   "metadata": {},
   "outputs": [],
   "source": []
  }
 ],
 "metadata": {
  "kernelspec": {
   "display_name": "Python 3 (ipykernel)",
   "language": "python",
   "name": "python3"
  },
  "language_info": {
   "codemirror_mode": {
    "name": "ipython",
    "version": 3
   },
   "file_extension": ".py",
   "mimetype": "text/x-python",
   "name": "python",
   "nbconvert_exporter": "python",
   "pygments_lexer": "ipython3",
   "version": "3.11.4"
  }
 },
 "nbformat": 4,
 "nbformat_minor": 5
}
